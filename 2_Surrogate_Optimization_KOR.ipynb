{
 "cells": [
  {
   "cell_type": "markdown",
   "metadata": {
    "slideshow": {
     "slide_type": "slide"
    }
   },
   "source": [
    "# Surrogate optimization for industrial engineering\n",
    "\n",
    "\n",
    "## Alexey Zaytsev, Yermek Kapushev\n",
    "## Skoltech\n",
    "## a.zaytsev@skoltech.ru, y.kapushev@skoltech.ru\n",
    "\n",
    "### https://github.com/likzet/Tutorial-on-Machine-Learning-for-Industrial-Predictive-Analytics\n",
    "### We thank Maxim Panov for his help during preparation of this notebook."
   ]
  },
  {
   "cell_type": "markdown",
   "metadata": {
    "slideshow": {
     "slide_type": "slide"
    }
   },
   "source": [
    "# Surrogate optimization\n",
    "\n",
    "* Used for optimization of \"heavy\" functions (computationally complex, expensive to evaluate)\n",
    "* The objective function can be \"black box\"\n",
    "* Uses approximation of the \"heavy\" objective function\n",
    "* Takes into account quality of the approximation and uncertainty of the prediction"
   ]
  },
  {
   "cell_type": "markdown",
   "metadata": {
    "slideshow": {
     "slide_type": "slide"
    }
   },
   "source": [
    "#### Optimization procedure:\n",
    "1. Build approximation $\\hat{f}(x)$ of the function $f(x)$ using available data.\n",
    "2. Choose a new point as an argmax of a criterion\n",
    "$$\n",
    "x_{new} = \\arg\\max\\limits_x a(x).\n",
    "$$\n",
    "3. Evaluate $f(x)$ at $x_{new}$.\n",
    "4. Update model $\\hat{f}(x)$ and go to step 2.\n"
   ]
  },
  {
   "cell_type": "markdown",
   "metadata": {
    "slideshow": {
     "slide_type": "slide"
    }
   },
   "source": [
    "### Expected Improvement is one of the most widely used criteria\n",
    "\n",
    "$$\n",
    "EI(x) = \\mathbb{E}_{p(\\hat{f})} \\left [\\max(0, y_{min} - \\hat{f}) \\right ]\n",
    "$$\n",
    "where $\\mu(\\mathbf{x}), \\sigma(\\mathbf{x})$ are mean and variance of GP model at point $x$,\n",
    "$\\Phi(\\cdot)$ - cdf of standard normal distribution,\n",
    "$\\phi(\\cdot)$ - pdf of standard normal distribution.\n",
    "\n",
    "Usually logarithm of EI is used.\n",
    "\n",
    "<img src=\"images/EI_vs_logEI.png\" width=\"800\" >\n"
   ]
  },
  {
   "cell_type": "markdown",
   "metadata": {
    "slideshow": {
     "slide_type": "slide"
    }
   },
   "source": [
    "### Evaluation of expected improvement\n",
    "\n",
    "$$\n",
    "EI = \\int_{-\\infty}^{y_{min}} (y_{min} - \\hat{y}) \\frac{1}{\\sqrt{2 \\pi} \\sigma} \\exp \\left (-\\frac{(\\hat{y} - \\mu)^2}{2 \\sigma^2} \\right ) d\\hat{y} = \\left |t = \\frac{\\hat{y} - \\mu}{\\sigma}, \n",
    "\\quad z = \\frac{y_{min} - \\mu}{\\sigma}\\right | = \\\\\n",
    "\\int_{-\\infty}^z (y - \\mu - \\sigma t)\\phi(t) dt = (y - \\mu) \\Phi(z) - \\sigma \\int_{-\\infty}^z t \\phi(t) dt\n",
    "$$\n",
    "$$\n",
    "\\int_{-\\infty}^z t\\phi(t)dt = \\int_{-\\infty}^z \\frac{1}{\\sqrt{2 \\pi}}t e^{-t^2 / 2}dt = \\int\\limits_{+\\infty}^{\\dfrac{z^2}{2}}\\dfrac{1}{\\sqrt{2\\pi}}e^{-x}dx = -\\dfrac{1}{\\sqrt{2\\pi}}e^{\\dfrac{z^2}{2}} = - \\phi(z)\n",
    "$$\n",
    "\n",
    "Finally we get:\n",
    "\n",
    "$$\n",
    "EI(\\mathbf{x}) = (y_{min} - \\mu(\\mathbf{x})) \\Phi\\left ( \\frac{y_{min} - \\mu(\\mathbf{x})}{\\sigma(\\mathbf{x})} \\right ) + \\sigma(\\mathbf{x}) \\phi \\left ( \\frac{y_{min} - \\mu(\\mathbf{x})}{\\sigma(\\mathbf{x})}\\right ),\n",
    "$$\n",
    "where $\\mu(\\mathbf{x})$ is the posterior mean at $\\mathbf{x}$, $\\sigma(\\mathbf{x})$ is the posterior variance at $\\mathbf{x}$.\n"
   ]
  },
  {
   "cell_type": "markdown",
   "metadata": {
    "slideshow": {
     "slide_type": "slide"
    }
   },
   "source": [
    "### Optimization of criterion\n",
    "\n",
    "Any optimization algorithm could be used.\n",
    "\n",
    "Here we use multi-start with L-BFGS optimization algorithm\n",
    "\n",
    "Multi-start procedure:\n",
    "1. Generate initial set of points $x_1, \\ldots, x_n$. Calculate criterion at each point to obtain $(a(x_1), \\ldots, a(x_n))$.\n",
    "2. Choose $k$ points with the smallest values of criterion.\n",
    "3. Using each point as an initial point run the optimization algorithm (L-BFGS) and obtain $k$ optimization results.\n",
    "4. From all optimization results choose the best one."
   ]
  },
  {
   "cell_type": "code",
   "execution_count": 1,
   "metadata": {
    "collapsed": true,
    "slideshow": {
     "slide_type": "notes"
    }
   },
   "outputs": [],
   "source": [
    "%matplotlib inline\n",
    "\n",
    "from __future__ import print_function\n",
    "\n",
    "import numpy as np\n",
    "from matplotlib import cm\n",
    "import matplotlib.pyplot as plt\n",
    "from mpl_toolkits.mplot3d import Axes3D\n",
    "import pickle\n",
    "from scipy.optimize import minimize\n",
    "import xgboost\n",
    "\n",
    "from utility import EngineeringModel\n",
    "\n",
    "import GPy\n",
    "import bayes_opt\n",
    "\n"
   ]
  },
  {
   "cell_type": "markdown",
   "metadata": {},
   "source": [
    "## Rotating disk problem"
   ]
  },
  {
   "cell_type": "markdown",
   "metadata": {
    "slideshow": {
     "slide_type": "slide"
    }
   },
   "source": [
    "## Load data and blackbox model"
   ]
  },
  {
   "cell_type": "markdown",
   "metadata": {
    "slideshow": {
     "slide_type": "slide"
    }
   },
   "source": [
    "## Rotating disk problem\n",
    "\n",
    "We want to optimize the shape of a rotating disk inside an aircraft engine:\n",
    "\n",
    "<img src=\"images/engine_disk.png\" width=\"300\" >\n",
    "\n",
    "There are 6 parameters to optimize with 3 parameters fixed. \n",
    "\n",
    "<img src=\"images/rotating_disk.png\" width=\"300\">\n",
    "\n",
    "See more details on the problem at \n",
    "1. Zaytsev, A. and Burnaev, E., 2017. Large scale variable fidelity surrogate modeling. Annals of Mathematics and Artificial Intelligence, pp.1-20.\n",
    "\n",
    "We thank DATADVANCE company for making the data available."
   ]
  },
  {
   "cell_type": "markdown",
   "metadata": {
    "slideshow": {
     "slide_type": "slide"
    }
   },
   "source": [
    "## Optimization problem\n",
    "\n",
    "\\begin{align}\n",
    "m, u_{max} &\\rightarrow \\min_{r_1, \\ldots, r_6, t_1, t_3, t_5}, \\\\\n",
    "10 &\\leq r_1 \\leq 110, 120 \\leq r_2 \\leq 140, \\nonumber \\\\\n",
    "150 &\\leq r_3 \\leq 168, 170 \\leq r_4 \\leq 200, \\nonumber \\\\\n",
    "4 &\\leq t_1 \\leq 50, 4 \\leq t_3 \\leq 50, \\nonumber \\\\\n",
    "r_5 &= 210, r_6 = 230, t_5 = 32. \\nonumber\n",
    "\\end{align}\n",
    "\n",
    "To handle two objectives we minimize instead $m + 40 u_{max}$ with multiplier $40$ added to keep scale the same."
   ]
  },
  {
   "cell_type": "code",
   "execution_count": 2,
   "metadata": {
    "collapsed": true,
    "slideshow": {
     "slide_type": "fragment"
    }
   },
   "outputs": [],
   "source": [
    "disk_model = pickle.load(open(\"disk_model.pickle\", 'rb'))"
   ]
  },
  {
   "cell_type": "code",
   "execution_count": 3,
   "metadata": {
    "collapsed": true,
    "slideshow": {
     "slide_type": "fragment"
    }
   },
   "outputs": [],
   "source": [
    "initial_sample_size = 20\n",
    "points = np.loadtxt('surrogate_data/disk_points.csv', delimiter=',')[:initial_sample_size, [0, 1, 2, 3, 6, 7]]\n",
    "values = np.loadtxt('surrogate_data/disk_values.csv', delimiter=',')[:initial_sample_size, :]"
   ]
  },
  {
   "cell_type": "markdown",
   "metadata": {
    "slideshow": {
     "slide_type": "slide"
    }
   },
   "source": [
    "## Implement multi-start optimization procedure"
   ]
  },
  {
   "cell_type": "code",
   "execution_count": 4,
   "metadata": {
    "collapsed": true,
    "slideshow": {
     "slide_type": "notes"
    }
   },
   "outputs": [],
   "source": [
    "from bayes_opt import get_new_point, optimization_step"
   ]
  },
  {
   "cell_type": "code",
   "execution_count": 5,
   "metadata": {
    "collapsed": true
   },
   "outputs": [],
   "source": [
    "initial_training_sample_size = 20\n",
    "training_points = points[:initial_training_sample_size, :]\n",
    "training_values = values[:initial_training_sample_size, [0]] + 40 * values[:initial_training_sample_size, [1]]"
   ]
  },
  {
   "cell_type": "code",
   "execution_count": 7,
   "metadata": {
    "collapsed": true
   },
   "outputs": [],
   "source": [
    "%load_ext autoreload\n",
    "%autoreload 2"
   ]
  },
  {
   "cell_type": "code",
   "execution_count": 8,
   "metadata": {
    "slideshow": {
     "slide_type": "skip"
    }
   },
   "outputs": [
    {
     "name": "stdout",
     "output_type": "stream",
     "text": [
      "[  47.45401188  139.01428613  163.17589095  187.95975453   11.17685746\n",
      "   11.17574794]\n",
      "-3.32970975837\n",
      "[ 31.06276516  37.08819389  35.71701098  29.34268446  31.02679453\n",
      "  27.98023401  33.76900553  30.10790989  35.9296632   32.69274313\n",
      "  32.37306474  35.43993617  34.80902073  30.42322288  34.05891345\n",
      "  32.3389929   32.32388818  29.82280876  33.76418261  32.45551863]\n"
     ]
    }
   ],
   "source": [
    "lower_bounds = [10, 120, 150, 170, 4, 4]\n",
    "upper_bounds = [110, 140, 168, 200, 50, 50]\n",
    "kernel = GPy.kern.RBF(input_dim=len(lower_bounds), variance=0.5, lengthscale=0.1)\n",
    "model = GPy.models.GPRegression(training_points, training_values, kernel)\n",
    "new_point, new_value = get_new_point(model, lower_bounds, upper_bounds, \n",
    "                                     data=(training_points, training_values), \n",
    "                                     seed=42)\n",
    "print(new_point)\n",
    "print(new_value[0])\n",
    "print(training_values[:, 0])"
   ]
  },
  {
   "cell_type": "code",
   "execution_count": 9,
   "metadata": {
    "collapsed": true,
    "slideshow": {
     "slide_type": "subslide"
    }
   },
   "outputs": [],
   "source": [
    "def evaluate_objective(point):\n",
    "    if len(np.shape(point)) == 1:\n",
    "        point = np.reshape(points, (1, -1))\n",
    "    return disk_model.evaluate(point, 0) + 40 * disk_model.evaluate(point, 1)"
   ]
  },
  {
   "cell_type": "code",
   "execution_count": 10,
   "metadata": {
    "slideshow": {
     "slide_type": "slide"
    }
   },
   "outputs": [
    {
     "name": "stdout",
     "output_type": "stream",
     "text": [
      "27.98023401\n",
      "37.344538058\n"
     ]
    }
   ],
   "source": [
    "updated_points, updated_values, model = optimization_step(training_points, training_values, \n",
    "                  kernel, evaluate_objective, \n",
    "                  lower_bounds=lower_bounds, upper_bounds=upper_bounds, \n",
    "                  criterion='ei', k=1)\n",
    "\n",
    "print(np.min(updated_values[:-1]))\n",
    "print(updated_values[-1][0])"
   ]
  },
  {
   "cell_type": "code",
   "execution_count": 11,
   "metadata": {
    "slideshow": {
     "slide_type": "slide"
    }
   },
   "outputs": [
    {
     "name": "stdout",
     "output_type": "stream",
     "text": [
      "27.2137724961\n",
      "30.354363289\n"
     ]
    },
    {
     "name": "stderr",
     "output_type": "stream",
     "text": [
      " /home/yermek/.local/lib/python3.5/site-packages/paramz/transformations.py:109: RuntimeWarning:overflow encountered in expm1\n"
     ]
    },
    {
     "name": "stdout",
     "output_type": "stream",
     "text": [
      "31.1034081552\n",
      "33.8656557582\n",
      "33.4693938737\n",
      "31.7904082721\n",
      "32.9108937442\n",
      "32.5181407775\n",
      "32.536827246\n",
      "31.7904082721\n",
      "31.0838482717\n",
      "32.1389313113\n"
     ]
    },
    {
     "name": "stderr",
     "output_type": "stream",
     "text": [
      " /home/yermek/.local/lib/python3.5/site-packages/GPy/kern/src/stationary.py:160: RuntimeWarning:overflow encountered in true_divide\n",
      " /home/yermek/.local/lib/python3.5/site-packages/GPy/kern/src/rbf.py:38: RuntimeWarning:invalid value encountered in multiply\n"
     ]
    },
    {
     "name": "stdout",
     "output_type": "stream",
     "text": [
      "33.7725853453\n",
      "31.7229350534\n"
     ]
    },
    {
     "name": "stderr",
     "output_type": "stream",
     "text": [
      " /home/yermek/.local/lib/python3.5/site-packages/GPy/kern/src/rbf.py:35: RuntimeWarning:overflow encountered in square\n"
     ]
    },
    {
     "name": "stdout",
     "output_type": "stream",
     "text": [
      "30.7637108463\n",
      "30.7637108463\n",
      "30.7637108463\n",
      "28.1146101796\n",
      "26.0945468652\n",
      "25.2377955468\n",
      "26.0682853137\n",
      "26.2703612777\n",
      "25.9915674228\n",
      "36.6808310997\n",
      "30.5307456501\n",
      "26.4098500261\n",
      "25.3197876939\n",
      "25.4041906034\n",
      "25.4069706598\n",
      "32.6010695807\n",
      "25.3584736596\n",
      "25.3683410519\n",
      "28.2322504654\n",
      "28.6352916381\n",
      "33.7181471601\n",
      "27.8069096692\n",
      "31.493552092\n",
      "29.6168617315\n",
      "26.9079963565\n",
      "25.7413484815\n",
      "26.0080029139\n",
      "31.7215738718\n",
      "26.7816816383\n",
      "28.5751629442\n",
      "27.2071827677\n",
      "26.4674445448\n",
      "26.129916684\n",
      "26.2495877916\n",
      "27.9921443178\n",
      "27.6312020362\n"
     ]
    }
   ],
   "source": [
    "number_of_new_points = 50\n",
    "updated_points, updated_values = training_points, training_values\n",
    "for index in range(number_of_new_points):\n",
    "    updated_points, updated_values, model = optimization_step(updated_points, updated_values, \n",
    "                                                              kernel, evaluate_objective, \n",
    "                                                              lower_bounds=lower_bounds,\n",
    "                                                              upper_bounds=upper_bounds, \n",
    "                                                              criterion='ei')\n",
    "    print(updated_values[-1][0])"
   ]
  },
  {
   "cell_type": "code",
   "execution_count": 20,
   "metadata": {
    "scrolled": false,
    "slideshow": {
     "slide_type": "slide"
    }
   },
   "outputs": [
    {
     "data": {
      "text/plain": [
       "Text(0,0.5,'Current min value')"
      ]
     },
     "execution_count": 20,
     "metadata": {},
     "output_type": "execute_result"
    },
    {
     "data": {
      "image/png": "[encoded data removed]",
      "text/plain": [
       "<matplotlib.figure.Figure at 0x7f783c138da0>"
      ]
     },
     "metadata": {},
     "output_type": "display_data"
    }
   ],
   "source": [
    "# Usage of surrogate optimization provides an improvement over the initial solution\n",
    "\n",
    "plt.plot([np.min(updated_values[:x]) for x in range(1, len(updated_values))])\n",
    "plt.plot([initial_training_sample_size, initial_training_sample_size],  \n",
    "            [np.min(updated_values), np.max(updated_values)], color='m')\n",
    "plt.xlabel('Point number')\n",
    "plt.ylabel('Current min value')"
   ]
  },
  {
   "cell_type": "markdown",
   "metadata": {
    "slideshow": {
     "slide_type": "slide"
    }
   },
   "source": [
    "## Surrogate optimization\n",
    "\n",
    "* allows to optimize complex and heavy functions.\n",
    "* works well in real problems.\n",
    "\n",
    "### Yermek Kapushev, Alexey Zaytsev, Evgeny Burnaev\n",
    "### y.kapushev@skoltech.ru, a.zaytsev@skoltech.ru\n",
    "### https://github.com/likzet/Tutorial-on-Machine-Learning-for-Industrial-Predictive-Analytics"
   ]
  },
  {
   "cell_type": "markdown",
   "metadata": {
    "slideshow": {
     "slide_type": "slide"
    }
   },
   "source": [
    "### Hyperparmeters tuning\n",
    "\n",
    "* Almost all machine learning have hyperparameters\n",
    "* Quality of the model depends on the hyperparameters\n",
    "* Quality estimation for one set of hyperparameters can take long time\n",
    "* => Bayesian optimization can be used for hyperparameters tuning."
   ]
  },
  {
   "cell_type": "markdown",
   "metadata": {
    "slideshow": {
     "slide_type": "slide"
    }
   },
   "source": [
    "#### Bayesian optimization for hyperparameter tuning\n",
    "\n",
    "Objective function to optimize\n",
    "* Takes hyperparameters as input\n",
    "* Builds a model (maybe several times in case of cross-validation)\n",
    "* Calculates and returns model quality"
   ]
  },
  {
   "cell_type": "code",
   "execution_count": 13,
   "metadata": {
    "collapsed": true,
    "slideshow": {
     "slide_type": "notes"
    }
   },
   "outputs": [],
   "source": [
    "from sklearn.ensemble import RandomForestRegressor\n",
    "from sklearn.model_selection import train_test_split, cross_val_score\n",
    "from sklearn.preprocessing import StandardScaler\n",
    "\n",
    "from IPython import display"
   ]
  },
  {
   "cell_type": "markdown",
   "metadata": {
    "slideshow": {
     "slide_type": "skip"
    }
   },
   "source": [
    "##### House pricing dataset\n",
    "\n",
    "In this task you need to predict House Sale Price. There are 25 numerical input features like lot area, overall condition rating, house quality, number of kitchens and so on (there were a lot of categorical variables which we removed in this example for simplicity).\n",
    "\n",
    "We are going to tune XGBoost parameters using Bayesian Optimization to obtain more accurate model."
   ]
  },
  {
   "cell_type": "code",
   "execution_count": 14,
   "metadata": {
    "collapsed": true,
    "slideshow": {
     "slide_type": "slide"
    }
   },
   "outputs": [],
   "source": [
    "data = np.loadtxt('house_pricing.csv')\n",
    "\n",
    "X = data[:, :-1]\n",
    "y = data[:, -1:]\n",
    "\n",
    "X_train, X_test, y_train, y_test = train_test_split(X, y, train_size=0.8, random_state=42)"
   ]
  },
  {
   "cell_type": "markdown",
   "metadata": {
    "slideshow": {
     "slide_type": "slide"
    }
   },
   "source": [
    "We implement `model_error_cv()` function that will be our objective function.  \n",
    "We are going to use RBF kernel in our Bayesian Optimization, the result of optimization will be continuous variables,\n",
    "so we need to preprocess parameters - cast integer parameters to int."
   ]
  },
  {
   "cell_type": "code",
   "execution_count": 15,
   "metadata": {
    "collapsed": true,
    "slideshow": {
     "slide_type": "notes"
    }
   },
   "outputs": [],
   "source": [
    "def wrap_parameters(parameters, scaler=None):\n",
    "    if scaler:\n",
    "        parameters = scaler.transform(parameters)\n",
    "    return parameters\n",
    "\n",
    "\n",
    "def unwrap_parameters(parameters, scaler=None):\n",
    "    if scaler:\n",
    "        parameters = scaler.inverse_transform(parameters)\n",
    "    p = [int(parameters[0]), parameters[1], int(parameters[2]),\n",
    "         max(0, min(parameters[3], 1))]\n",
    "    return p\n",
    "\n",
    "\n",
    "def model_error_cv(parameters, X, y, scaler=None):\n",
    "    errors = []\n",
    "    for p in parameters:\n",
    "        p = unwrap_parameters(p, scaler)\n",
    "        model = xgboost.XGBRegressor(max_depth=p[0],\n",
    "                                     learning_rate=p[1],\n",
    "                                     n_estimators=p[2],\n",
    "                                     subsample=p[3],\n",
    "                                     )\n",
    "\n",
    "        score = cross_val_score(model, X, y, cv=3).mean()\n",
    "        errors.append(score)\n",
    "    return np.array(errors).reshape(-1, 1)"
   ]
  },
  {
   "cell_type": "markdown",
   "metadata": {
    "slideshow": {
     "slide_type": "slide"
    }
   },
   "source": [
    "We scale the parameters using `StandardScaler()` from sklearn - it is nice to have all the parameters with unit variance and mean zero\n",
    "when using RBF kernel as it is easier to tune lengthscale parameters, because these parameters depend on the range of input variables."
   ]
  },
  {
   "cell_type": "code",
   "execution_count": 16,
   "metadata": {
    "collapsed": true,
    "slideshow": {
     "slide_type": "slide"
    }
   },
   "outputs": [],
   "source": [
    "# xgboost params: max_depth, learning_rate, n_estimators, subsample\n",
    "lower_bound = np.array([1, 0.001, 100, 0.2]).reshape(1, -1)\n",
    "upper_bound = np.array([6, 0.1, 1000, 1]).reshape(1, -1)\n",
    "\n",
    "np.random.seed(42)\n",
    "n_init_points = 10\n",
    "initial_parameters = np.random.rand(n_init_points, len(lower_bound)) * (upper_bound - lower_bound) + lower_bound\n",
    "initial_errors = -model_error_cv(initial_parameters, X, y)\n",
    "\n",
    "scaler = StandardScaler()\n",
    "scaler.fit(initial_parameters)\n",
    "lower_bound = scaler.transform(lower_bound)\n",
    "upper_bound = scaler.transform(upper_bound)\n",
    "initial_parameters = wrap_parameters(initial_parameters, scaler)"
   ]
  },
  {
   "cell_type": "markdown",
   "metadata": {
    "slideshow": {
     "slide_type": "slide"
    }
   },
   "source": [
    "It is also nice idea to explicitly constrain lengthscale parameter - it shouldn't be much larger than distance between points in the training set, it shouldn't be much smaller than the distance between points in the training set."
   ]
  },
  {
   "cell_type": "code",
   "execution_count": 17,
   "metadata": {
    "slideshow": {
     "slide_type": "skip"
    }
   },
   "outputs": [
    {
     "name": "stdout",
     "output_type": "stream",
     "text": [
      "WARNING: reconstraining parameters GP_regression.rbf.lengthscale\n",
      "\n",
      "Name : GP regression\n",
      "Objective : 3.821626996869627\n",
      "Number of Parameters : 3\n",
      "Number of Optimization Parameters : 3\n",
      "Updates : True\n",
      "Parameters:\n",
      "  \u001b[1mGP_regression.         \u001b[0;0m  |            value  |  constraints  |  priors\n",
      "  \u001b[1mrbf.variance           \u001b[0;0m  |   0.418120894567  |      +ve      |        \n",
      "  \u001b[1mrbf.lengthscale        \u001b[0;0m  |    2.31884851945  |  0.001,10.0   |        \n",
      "  \u001b[1mGaussian_noise.variance\u001b[0;0m  |  0.0635911409714  |      +ve      |        \n",
      "  \u001b[1mindex\u001b[0;0m  |  GP_regression.rbf.lengthscale  |  constraints  |  priors\n",
      "  \u001b[1m[0]  \u001b[0;0m  |                     2.31884852  |  0.001,10.0   |        \n"
     ]
    },
    {
     "name": "stderr",
     "output_type": "stream",
     "text": [
      " /home/yermek/.local/lib/python3.5/site-packages/GPy/core/gp.py:87: UserWarning:Your kernel has a different input dimension 1 then the given X dimension 4. Be very sure this is what you want and you have not forgotten to set the right input dimenion in your kernel\n"
     ]
    }
   ],
   "source": [
    "kernel = GPy.kern.RBF(len(lower_bound), lengthscale=(upper_bound - lower_bound).min() / n_init_points, ARD=False)\n",
    "gp_model = GPy.models.GPRegression(initial_parameters, initial_errors, kernel=kernel)\n",
    "gp_model.rbf.lengthscale.constrain_bounded(0.001, 10)\n",
    "gp_model.optimize()\n",
    "print(gp_model)\n",
    "print(gp_model.rbf.lengthscale)"
   ]
  },
  {
   "cell_type": "code",
   "execution_count": 18,
   "metadata": {
    "scrolled": false,
    "slideshow": {
     "slide_type": "slide"
    }
   },
   "outputs": [
    {
     "data": {
      "image/png": "[encoded data removed]",
      "text/plain": [
       "<matplotlib.figure.Figure at 0x7f783c093940>"
      ]
     },
     "metadata": {},
     "output_type": "display_data"
    },
    {
     "name": "stdout",
     "output_type": "stream",
     "text": [
      "New parameters: [5, 0.050129616535353798, 442, 0.33042826954527282], new error:\t0.8590413129412845\n",
      "best parameters: [5, 0.02338640779371752, 373, 0.44315400980402186], best error:\t0.8674381220083491\n",
      "  \u001b[1mindex\u001b[0;0m  |  GP_regression.rbf.lengthscale  |  constraints  |  priors\n",
      "  \u001b[1m[0]  \u001b[0;0m  |                     0.48814395  |  0.001,10.0   |        \n"
     ]
    }
   ],
   "source": [
    "budget = 40\n",
    "\n",
    "hyperparameters = initial_parameters\n",
    "errors = initial_errors\n",
    "error_history = [-initial_errors[:i].min() for i in range(1, n_init_points + 1)]\n",
    "objective = lambda x: -model_error_cv(x, X, y, scaler)\n",
    "for i in range(budget):\n",
    "    hyperparameters, errors, gp_model = bayes_opt.optimization_step(hyperparameters, errors, kernel, objective,\n",
    "                                                                    lower_bounds=lower_bound, upper_bounds=upper_bound)\n",
    "    error_history.append(-errors.min())\n",
    "    # Visualize\n",
    "    display.clear_output(wait=True)\n",
    "    plt.figure(figsize=(8, 6))\n",
    "        \n",
    "    plt.xlabel(\"#iteration\")\n",
    "    plt.ylabel(\"R2\")\n",
    "    plt.plot(error_history)\n",
    "    plt.show()\n",
    "    \n",
    "    print(\"New parameters: {}, new error:\\t{}\\nbest parameters: {}, best error:\\t{}\".format(\n",
    "        unwrap_parameters(hyperparameters[-1], scaler), -errors[-1, 0],\n",
    "        unwrap_parameters(hyperparameters[errors.argmin()], scaler), -errors.min()))\n",
    "    print(gp_model.rbf.lengthscale)"
   ]
  },
  {
   "cell_type": "markdown",
   "metadata": {
    "collapsed": true,
    "slideshow": {
     "slide_type": "slide"
    }
   },
   "source": [
    "## Using Bayesian optimization we can improve performace of Machine Learning algorithms by tuning hyperparameters."
   ]
  },
  {
   "cell_type": "markdown",
   "metadata": {},
   "source": [
    "### Topics covered:\n",
    "\n",
    "1. Idea of Surrogate Optimization\n",
    "2. Optimization of Expected Improvement\n",
    "3. Rotating disk engineering problem\n",
    "4. Solution of rotating disk engineering problem using Surrogate Optimization\n",
    "5. Example of Bayesian optimization\n",
    "\n",
    "### Yermek Kapushev\n",
    "### y.kapushev@skoltech.ru\n",
    "\n",
    "### For notebook see https://github.com/likzet/Tutorial-on-Machine-Learning-for-Industrial-Predictive-Analytics"
   ]
  },
  {
   "cell_type": "code",
   "execution_count": null,
   "metadata": {
    "collapsed": true
   },
   "outputs": [],
   "source": []
  }
 ],
 "metadata": {
  "celltoolbar": "Slideshow",
  "kernelspec": {
   "display_name": "Python 3",
   "language": "python",
   "name": "python3"
  },
  "language_info": {
   "codemirror_mode": {
    "name": "ipython",
    "version": 3
   },
   "file_extension": ".py",
   "mimetype": "text/x-python",
   "name": "python",
   "nbconvert_exporter": "python",
   "pygments_lexer": "ipython3",
   "version": "3.5.2"
  }
 },
 "nbformat": 4,
 "nbformat_minor": 2
}
